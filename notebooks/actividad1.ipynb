{
 "cells": [
  {
   "cell_type": "code",
   "execution_count": 11,
   "id": "bb43354d",
   "metadata": {},
   "outputs": [
    {
     "name": "stdout",
     "output_type": "stream",
     "text": [
      "Ronda 1\n",
      "Mejor(es) equipo(s): EquipoA — puntos: 6\n",
      "Equipo  Innovación  Presentación  Errores  Mejores  Puntos\n",
      "EquipoA      2            1         1        1       6\n",
      "EquipoC      1            2         1        0       4\n",
      "EquipoE      1            1         0        0       4\n",
      "EquipoB      1            0         0        0       3\n",
      "EquipoD      0            1         0        0       1\n",
      "\n",
      "Ronda 2\n",
      "Mejor(es) equipo(s): EquipoD — puntos: 6\n",
      "Equipo  Innovación  Presentación  Errores  Mejores  Puntos\n",
      "EquipoA      2            3         1        1       8\n",
      "EquipoB      3            0         1        0       8\n",
      "EquipoC      2            3         1        0       8\n",
      "EquipoD      2            2         1        1       7\n",
      "EquipoE      1            2         0        0       5\n",
      "\n",
      "Ronda 3\n",
      "Mejor(es) equipo(s): EquipoA — puntos: 11\n",
      "Equipo  Innovación  Presentación  Errores  Mejores  Puntos\n",
      "EquipoA      5            5         1        2      19\n",
      "EquipoC      4            3         1        0      14\n",
      "EquipoE      3            4         0        0      13\n",
      "EquipoD      3            5         2        1      12\n",
      "EquipoB      4            1         2        0      11\n",
      "\n",
      "Ronda 4\n",
      "Mejor(es) equipo(s): EquipoC — puntos: 10\n",
      "Equipo  Innovación  Presentación  Errores  Mejores  Puntos\n",
      "EquipoA      6            8         2        2      24\n",
      "EquipoC      7            4         1        1      24\n",
      "EquipoB      6            3         2        0      19\n",
      "EquipoE      5            4         0        0      19\n",
      "EquipoD      3            7         3        1      13\n",
      "\n",
      "Ronda 5\n",
      "Mejor(es) equipo(s): EquipoD — puntos: 10\n",
      "Equipo  Innovación  Presentación  Errores  Mejores  Puntos\n",
      "EquipoA      8           10         2        2      32\n",
      "EquipoE      7            7         1        0      27\n",
      "EquipoC      7            6         1        1      26\n",
      "EquipoB      7            6         3        0      24\n",
      "EquipoD      6            8         3        2      23\n",
      "\n",
      "Resultados Finales\n",
      "Equipos Ganadores: EquipoA (32 puntos)\n",
      "\n",
      "Tabla Final de Resultados\n",
      "Equipo  Innovación  Presentación  Errores  Mejores  Puntos\n",
      "EquipoA      8           10         2        2      32\n",
      "EquipoE      7            7         1        0      27\n",
      "EquipoC      7            6         1        1      26\n",
      "EquipoB      7            6         3        0      24\n",
      "EquipoD      6            8         3        2      23\n"
     ]
    }
   ],
   "source": [
    "%run ../src/evaluacion.py\n"
   ]
  }
 ],
 "metadata": {
  "language_info": {
   "name": "python"
  }
 },
 "nbformat": 4,
 "nbformat_minor": 5
}
