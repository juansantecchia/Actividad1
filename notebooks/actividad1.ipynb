{
 "cells": [
  {
   "cell_type": "code",
   "execution_count": 12,
   "id": "af0d35c3",
   "metadata": {},
   "outputs": [
    {
     "name": "stdout",
     "output_type": "stream",
     "text": [
      "Ronda 1\n",
      "Mejor(es) equipo(s): EquipoA — puntos: 6\n",
      "Equipo  Innovación  Presentación  Errores  Mejores  Puntos\n",
      "EquipoA      2            1         1        1       6\n",
      "EquipoC      1            2         1        0       4\n",
      "EquipoE      1            1         0        0       4\n",
      "EquipoB      1            0         0        0       3\n",
      "EquipoD      0            1         0        0       1\n",
      "\n",
      "Ronda 2\n",
      "Mejor(es) equipo(s): EquipoD — puntos: 6\n",
      "Equipo  Innovación  Presentación  Errores  Mejores  Puntos\n",
      "EquipoA      2            3         1        1       8\n",
      "EquipoB      3            0         1        0       8\n",
      "EquipoC      2            3         1        0       8\n",
      "EquipoD      2            2         1        1       7\n",
      "EquipoE      1            2         0        0       5\n",
      "\n",
      "Ronda 3\n",
      "Mejor(es) equipo(s): EquipoA — puntos: 11\n",
      "Equipo  Innovación  Presentación  Errores  Mejores  Puntos\n",
      "EquipoA      5            5         1        2      19\n",
      "EquipoC      4            3         1        0      14\n",
      "EquipoE      3            4         0        0      13\n",
      "EquipoD      3            5         2        1      12\n",
      "EquipoB      4            1         2        0      11\n",
      "\n",
      "Ronda 4\n",
      "Mejor(es) equipo(s): EquipoC — puntos: 10\n",
      "Equipo  Innovación  Presentación  Errores  Mejores  Puntos\n",
      "EquipoA      6            8         2        2      24\n",
      "EquipoC      7            4         1        1      24\n",
      "EquipoB      6            3         2        0      19\n",
      "EquipoE      5            4         0        0      19\n",
      "EquipoD      3            7         3        1      13\n",
      "\n",
      "Ronda 5\n",
      "Mejor(es) equipo(s): EquipoD — puntos: 10\n",
      "Equipo  Innovación  Presentación  Errores  Mejores  Puntos\n",
      "EquipoA      8           10         2        2      32\n",
      "EquipoE      7            7         1        0      27\n",
      "EquipoC      7            6         1        1      26\n",
      "EquipoB      7            6         3        0      24\n",
      "EquipoD      6            8         3        2      23\n",
      "\n",
      "Resultados Finales\n",
      "Equipos Ganadores: EquipoA (32 puntos)\n",
      "\n",
      "Tabla Final de Resultados\n",
      "Equipo  Innovación  Presentación  Errores  Mejores  Puntos\n",
      "EquipoA      8           10         2        2      32\n",
      "EquipoE      7            7         1        0      27\n",
      "EquipoC      7            6         1        1      26\n",
      "EquipoB      7            6         3        0      24\n",
      "EquipoD      6            8         3        2      23\n"
     ]
    },
    {
     "name": "stderr",
     "output_type": "stream",
     "text": [
      "El formato del par�metro no es correcto: \"src\".\n"
     ]
    }
   ],
   "source": [
    "%pwd\n",
    "%ls ../src\n",
    "%run ../src/evaluacion.py"
   ]
  },
  {
   "cell_type": "code",
   "execution_count": 11,
   "id": "bb43354d",
   "metadata": {},
   "outputs": [
    {
     "name": "stdout",
     "output_type": "stream",
     "text": [
      "Ronda 1\n",
      "Mejor(es) equipo(s): EquipoA — puntos: 6\n",
      "Equipo  Innovación  Presentación  Errores  Mejores  Puntos\n",
      "EquipoA      2            1         1        1       6\n",
      "EquipoC      1            2         1        0       4\n",
      "EquipoE      1            1         0        0       4\n",
      "EquipoB      1            0         0        0       3\n",
      "EquipoD      0            1         0        0       1\n",
      "\n",
      "Ronda 2\n",
      "Mejor(es) equipo(s): EquipoD — puntos: 6\n",
      "Equipo  Innovación  Presentación  Errores  Mejores  Puntos\n",
      "EquipoA      2            3         1        1       8\n",
      "EquipoB      3            0         1        0       8\n",
      "EquipoC      2            3         1        0       8\n",
      "EquipoD      2            2         1        1       7\n",
      "EquipoE      1            2         0        0       5\n",
      "\n",
      "Ronda 3\n",
      "Mejor(es) equipo(s): EquipoA — puntos: 11\n",
      "Equipo  Innovación  Presentación  Errores  Mejores  Puntos\n",
      "EquipoA      5            5         1        2      19\n",
      "EquipoC      4            3         1        0      14\n",
      "EquipoE      3            4         0        0      13\n",
      "EquipoD      3            5         2        1      12\n",
      "EquipoB      4            1         2        0      11\n",
      "\n",
      "Ronda 4\n",
      "Mejor(es) equipo(s): EquipoC — puntos: 10\n",
      "Equipo  Innovación  Presentación  Errores  Mejores  Puntos\n",
      "EquipoA      6            8         2        2      24\n",
      "EquipoC      7            4         1        1      24\n",
      "EquipoB      6            3         2        0      19\n",
      "EquipoE      5            4         0        0      19\n",
      "EquipoD      3            7         3        1      13\n",
      "\n",
      "Ronda 5\n",
      "Mejor(es) equipo(s): EquipoD — puntos: 10\n",
      "Equipo  Innovación  Presentación  Errores  Mejores  Puntos\n",
      "EquipoA      8           10         2        2      32\n",
      "EquipoE      7            7         1        0      27\n",
      "EquipoC      7            6         1        1      26\n",
      "EquipoB      7            6         3        0      24\n",
      "EquipoD      6            8         3        2      23\n",
      "\n",
      "Resultados Finales\n",
      "Equipos Ganadores: EquipoA (32 puntos)\n",
      "\n",
      "Tabla Final de Resultados\n",
      "Equipo  Innovación  Presentación  Errores  Mejores  Puntos\n",
      "EquipoA      8           10         2        2      32\n",
      "EquipoE      7            7         1        0      27\n",
      "EquipoC      7            6         1        1      26\n",
      "EquipoB      7            6         3        0      24\n",
      "EquipoD      6            8         3        2      23\n"
     ]
    }
   ],
   "source": [
    "%run ../src/evaluacion.py\n"
   ]
  },
  {
   "cell_type": "code",
   "execution_count": 13,
   "id": "5b5b6afb",
   "metadata": {},
   "outputs": [
    {
     "data": {
      "text/plain": [
       "'c:\\\\Users\\\\User\\\\OneDrive\\\\Documentos\\\\feria_ciencias\\\\notebooks'"
      ]
     },
     "execution_count": 13,
     "metadata": {},
     "output_type": "execute_result"
    }
   ],
   "source": [
    "%pwd\n",
    "\n"
   ]
  },
  {
   "cell_type": "code",
   "execution_count": 14,
   "id": "68fb4add",
   "metadata": {},
   "outputs": [
    {
     "name": "stdout",
     "output_type": "stream",
     "text": [
      " El volumen de la unidad C no tiene etiqueta.\n",
      " El n�mero de serie del volumen es: 30C5-6A36\n",
      "\n",
      " Directorio de c:\\Users\\User\\OneDrive\\Documentos\\feria_ciencias\\notebooks\n",
      "\n",
      "25/09/2025  18:44    <DIR>          .\n",
      "25/09/2025  18:44    <DIR>          ..\n",
      "25/09/2025  18:55             3.350 actividad1.ipynb\n",
      "               1 archivos          3.350 bytes\n",
      "               2 dirs  69.925.978.112 bytes libres\n",
      " El volumen de la unidad C no tiene etiqueta.\n",
      " El n�mero de serie del volumen es: 30C5-6A36\n",
      "\n",
      " Directorio de c:\\Users\\User\\OneDrive\\Documentos\\feria_ciencias\\notebooks\n",
      "\n"
     ]
    },
    {
     "name": "stderr",
     "output_type": "stream",
     "text": [
      "No se encuentra el archivo\n"
     ]
    }
   ],
   "source": [
    "%ls\n",
    "%ls src\n"
   ]
  },
  {
   "cell_type": "code",
   "execution_count": 15,
   "id": "2813d8c1",
   "metadata": {},
   "outputs": [
    {
     "name": "stdout",
     "output_type": "stream",
     "text": [
      " El volumen de la unidad C no tiene etiqueta.\n",
      " El n�mero de serie del volumen es: 30C5-6A36\n",
      "\n",
      " Directorio de c:\\Users\\User\\OneDrive\\Documentos\\feria_ciencias\n",
      "\n",
      "25/09/2025  18:33    <DIR>          .\n",
      "25/09/2025  18:33    <DIR>          ..\n",
      "25/09/2025  18:33                45 .gitignore\n",
      "25/09/2025  18:44    <DIR>          notebooks\n",
      "25/09/2025  18:33               856 README.md\n",
      "25/09/2025  18:09    <DIR>          src\n",
      "               2 archivos            901 bytes\n",
      "               4 dirs  69.925.068.800 bytes libres\n"
     ]
    },
    {
     "name": "stderr",
     "output_type": "stream",
     "text": [
      "El formato del par�metro no es correcto: \"src\".\n"
     ]
    }
   ],
   "source": [
    "%ls ..\n",
    "%ls ../src"
   ]
  },
  {
   "cell_type": "code",
   "execution_count": 16,
   "id": "e47b15f9",
   "metadata": {},
   "outputs": [
    {
     "name": "stdout",
     "output_type": "stream",
     "text": [
      "Ronda 1\n",
      "Mejor(es) equipo(s): EquipoA — puntos: 6\n",
      "Equipo  Innovación  Presentación  Errores  Mejores  Puntos\n",
      "EquipoA      2            1         1        1       6\n",
      "EquipoC      1            2         1        0       4\n",
      "EquipoE      1            1         0        0       4\n",
      "EquipoB      1            0         0        0       3\n",
      "EquipoD      0            1         0        0       1\n",
      "\n",
      "Ronda 2\n",
      "Mejor(es) equipo(s): EquipoD — puntos: 6\n",
      "Equipo  Innovación  Presentación  Errores  Mejores  Puntos\n",
      "EquipoA      2            3         1        1       8\n",
      "EquipoB      3            0         1        0       8\n",
      "EquipoC      2            3         1        0       8\n",
      "EquipoD      2            2         1        1       7\n",
      "EquipoE      1            2         0        0       5\n",
      "\n",
      "Ronda 3\n",
      "Mejor(es) equipo(s): EquipoA — puntos: 11\n",
      "Equipo  Innovación  Presentación  Errores  Mejores  Puntos\n",
      "EquipoA      5            5         1        2      19\n",
      "EquipoC      4            3         1        0      14\n",
      "EquipoE      3            4         0        0      13\n",
      "EquipoD      3            5         2        1      12\n",
      "EquipoB      4            1         2        0      11\n",
      "\n",
      "Ronda 4\n",
      "Mejor(es) equipo(s): EquipoC — puntos: 10\n",
      "Equipo  Innovación  Presentación  Errores  Mejores  Puntos\n",
      "EquipoA      6            8         2        2      24\n",
      "EquipoC      7            4         1        1      24\n",
      "EquipoB      6            3         2        0      19\n",
      "EquipoE      5            4         0        0      19\n",
      "EquipoD      3            7         3        1      13\n",
      "\n",
      "Ronda 5\n",
      "Mejor(es) equipo(s): EquipoD — puntos: 10\n",
      "Equipo  Innovación  Presentación  Errores  Mejores  Puntos\n",
      "EquipoA      8           10         2        2      32\n",
      "EquipoE      7            7         1        0      27\n",
      "EquipoC      7            6         1        1      26\n",
      "EquipoB      7            6         3        0      24\n",
      "EquipoD      6            8         3        2      23\n",
      "\n",
      "Resultados Finales\n",
      "Equipos Ganadores: EquipoA (32 puntos)\n",
      "\n",
      "Tabla Final de Resultados\n",
      "Equipo  Innovación  Presentación  Errores  Mejores  Puntos\n",
      "EquipoA      8           10         2        2      32\n",
      "EquipoE      7            7         1        0      27\n",
      "EquipoC      7            6         1        1      26\n",
      "EquipoB      7            6         3        0      24\n",
      "EquipoD      6            8         3        2      23\n"
     ]
    }
   ],
   "source": [
    "%run ../src/evaluacion.py\n"
   ]
  }
 ],
 "metadata": {
  "language_info": {
   "name": "python"
  }
 },
 "nbformat": 4,
 "nbformat_minor": 5
}
